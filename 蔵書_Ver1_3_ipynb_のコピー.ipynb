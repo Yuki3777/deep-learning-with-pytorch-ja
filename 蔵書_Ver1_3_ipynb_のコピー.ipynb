{
  "nbformat": 4,
  "nbformat_minor": 0,
  "metadata": {
    "colab": {
      "name": "蔵書_Ver1.3.ipynb のコピー",
      "provenance": [],
      "collapsed_sections": [
        "OL7Zg5KUxedn",
        "8a_otHWbw99H",
        "t_PH-FLLYn9F",
        "i_Htct0HxG7m",
        "_12ywrFfqZrr"
      ],
      "mount_file_id": "1WuRZheAqRFx_6DIBh-FvG37Fr6a-1Uve",
      "authorship_tag": "ABX9TyPDp2ytUGYdF8DfCYUz910L",
      "include_colab_link": true
    },
    "kernelspec": {
      "name": "python3",
      "display_name": "Python 3"
    },
    "language_info": {
      "name": "python"
    }
  },
  "cells": [
    {
      "cell_type": "markdown",
      "metadata": {
        "id": "view-in-github",
        "colab_type": "text"
      },
      "source": [
        "<a href=\"https://colab.research.google.com/github/Yuki3777/deep-learning-with-pytorch-ja/blob/main/%E8%94%B5%E6%9B%B8_Ver1_3_ipynb_%E3%81%AE%E3%82%B3%E3%83%94%E3%83%BC.ipynb\" target=\"_parent\"><img src=\"https://colab.research.google.com/assets/colab-badge.svg\" alt=\"Open In Colab\"/></a>"
      ]
    },
    {
      "cell_type": "markdown",
      "metadata": {
        "id": "48PG0mdWyExR"
      },
      "source": [
        "# <b><font size=5, color=\"steelblue\" >ようこそ。書籍管理プラットホームです。</b></font>\n",
        "\n",
        "### <font color=\"green\">このプログラムを実行するためには最初に準備をする必要があります。</font>\n",
        "\n",
        "* まず直ぐ下のコード(使うための準備）を実行してください。\n",
        "* コードの実行は![image.png](data:image/png;base64,iVBORw0KGgoAAAANSUhEUgAAACQAAAAhCAYAAACxzQkrAAAA+0lEQVRYhe3WwY2EMAwF0KktdwrwPe7FvodecjddUAYF/D3NiEG7MZAwE634km+R8oTjhAc6y+PbgG1ukJcb5OX/gHLOUFUwM0IICCGAmaGqmKbpcyAzAxG9EH8VEcHMrgWllFzItsZxvAZ0BvOslFJbkJmdxjxrb/t2gUpnJsa4C0REbUA55+JGy7JARJp9JRfkbbaGD8NQXCsi9SCvJevM81xcz8z1IK8N23gt/ApIVa8DHW3Z+in5bSKrQd0d6j1jX2pR87EHyhdjqUXranYxAh0+HUBnj2sN6gjmMAjo7AdtCxORt3sqxggROQWpBl2VG+TlBnnpDvQDlMQGOQ/VOdAAAAAASUVORK5CYII=)を押すことで実行できます。\n",
        "\n",
        "* 使いたい機能の「ここを開いてね」の横にある\"▶\"を押すことで中身を開きます。<br>\n",
        "もう一回押すと閉じます。\n",
        "\n",
        "\n",
        "\n",
        "\n",
        "---\n",
        "**<b><font color =\"red\">注意事項</font></b>**\n",
        "\n",
        "\n",
        "* 触るな危険は触ると本当にまずいので触らないでください。<br><font color=\"DeepPink\">基本的にコードには触れないでください。</font>\n",
        "* 青い文字の<font color =\"deepskyblue\">コードの表示</font>を押しちゃったらゴミ箱マークの隣の点々から「フォーム>フォームの非表示」を押してください。戻ります。\n",
        "![image.png](data:image/png;base64,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) <sup>←これ</sup>\n",
        "\n",
        "* なんとなくやばそうなことをしてしまったら一回閉じてもう一度リンクを開いてみて\n",
        "* それでもだめだったら連絡を\n"
      ]
    },
    {
      "cell_type": "markdown",
      "metadata": {
        "id": "OL7Zg5KUxedn"
      },
      "source": [
        "#使うための準備　<font color =\"DeepPink\" >中身はいじらないでね。</font><br>\n",
        "\n",
        "\n",
        "<b><font color = \"blue\">↓最初に一回再生ボタンを押してね。</font></b><br>\n",
        "カーソルを合わせると再生ボタンが出ます"
      ]
    },
    {
      "cell_type": "code",
      "metadata": {
        "id": "m9Mp_l0JzILz",
        "colab": {
          "base_uri": "https://localhost:8080/"
        },
        "outputId": "fe00e175-98d7-45db-8ba3-99aa6368a029"
      },
      "source": [
        "!pip install mojimoji\n",
        "import pandas as pd\n",
        "import codecs\n",
        "import os\n",
        "import math\n",
        "#import matplotlib.pyplot as plt\n",
        "import mojimoji"
      ],
      "execution_count": 1,
      "outputs": [
        {
          "output_type": "stream",
          "name": "stdout",
          "text": [
            "Collecting mojimoji\n",
            "  Downloading mojimoji-0.0.11-cp37-cp37m-manylinux1_x86_64.whl (127 kB)\n",
            "\u001b[?25l\r\u001b[K     |██▋                             | 10 kB 29.4 MB/s eta 0:00:01\r\u001b[K     |█████▏                          | 20 kB 24.6 MB/s eta 0:00:01\r\u001b[K     |███████▊                        | 30 kB 16.6 MB/s eta 0:00:01\r\u001b[K     |██████████▎                     | 40 kB 14.6 MB/s eta 0:00:01\r\u001b[K     |████████████▉                   | 51 kB 7.2 MB/s eta 0:00:01\r\u001b[K     |███████████████▍                | 61 kB 7.0 MB/s eta 0:00:01\r\u001b[K     |██████████████████              | 71 kB 7.3 MB/s eta 0:00:01\r\u001b[K     |████████████████████▌           | 81 kB 8.2 MB/s eta 0:00:01\r\u001b[K     |███████████████████████▏        | 92 kB 8.6 MB/s eta 0:00:01\r\u001b[K     |█████████████████████████▊      | 102 kB 6.8 MB/s eta 0:00:01\r\u001b[K     |████████████████████████████▎   | 112 kB 6.8 MB/s eta 0:00:01\r\u001b[K     |██████████████████████████████▉ | 122 kB 6.8 MB/s eta 0:00:01\r\u001b[K     |████████████████████████████████| 127 kB 6.8 MB/s \n",
            "\u001b[?25hInstalling collected packages: mojimoji\n",
            "Successfully installed mojimoji-0.0.11\n"
          ]
        }
      ]
    },
    {
      "cell_type": "code",
      "metadata": {
        "id": "GrtRRGoo0eJZ"
      },
      "source": [
        "with codecs.open(\"/content/drive/MyDrive/蔵書_reset_巻数 _これ使う.csv\", \"r\") as file:\n",
        "    df = pd.read_table(file, delimiter=\",\", index_col = 0)"
      ],
      "execution_count": 2,
      "outputs": []
    },
    {
      "cell_type": "markdown",
      "metadata": {
        "id": "szmy6WufzTsr"
      },
      "source": [
        "# <b><font size=5, color = \"darkorange\">ここから書籍管理の場所になります</b>\n"
      ]
    },
    {
      "cell_type": "markdown",
      "metadata": {
        "id": "8a_otHWbw99H"
      },
      "source": [
        "# 新たに本の<b>登録をする</b>ときはここを開いてね"
      ]
    },
    {
      "cell_type": "markdown",
      "metadata": {
        "id": "YMT4cCNi8ii4"
      },
      "source": [
        "<font size = 3, color = \"red\">注意事項</font><br>\n",
        "<b>例</b>　青の祓魔師（１）<br>\n",
        "↑このように入力したい場合は\n",
        "* タイトル　＝＞　青の祓魔師\n",
        "* サブタイトル　＝＞　なし\n",
        "* 巻数　＝＞　１ <br>\n",
        "\n",
        "と入力してください。\n",
        "\n",
        "\n",
        "\n",
        "\n",
        "\n",
        "\n",
        "<b>ワンパンマン（１）一撃</b><br>\n",
        "↑このように入力したい場合は\n",
        "* タイトル　＝＞　ワンパンマン\n",
        "* サブタイトル　＝＞　一撃\n",
        "* 巻数　＝＞　１ <br>\n",
        "\n",
        "と入力してください。\n",
        "\n",
        "\n"
      ]
    },
    {
      "cell_type": "code",
      "metadata": {
        "id": "_Tuuvr0fkUU6"
      },
      "source": [
        "#@title 新しい本の情報を入れてね。　　<br>入れ終わったら左の再生ボタンを押してね\n",
        "\n",
        "#@markdown ---\n",
        "\n",
        "\n",
        "title = \"\\u30BF\\u30A4\\u30C8\\u30EB\" #@param {type:\"string\", value:\"タイトル\"}\n",
        "\n",
        "title_sub = \"\\u30B5\\u30D6\\u30BF\\u30A4\\u30C8\\u30EB\" #@param {type:\"string\", value:\"タイトル\"}\n",
        "\n",
        "#@markdown  ↑サブタイトルが無ければ何も入れないでください<br>\n",
        "#@markdown   <br>\n",
        "\n",
        "title_ruby = \"\\u30BF\\u30A4\\u30C8\\u30EB\\u30D5\\u30EA\\u30AC\\u30CA\" #@param {type:\"string\"}\n",
        "\n",
        "title_ruby_sub = \"\\u30B5\\u30D6\\u30BF\\u30A4\\u30C8\\u30EB\\u30D5\\u30EA\\u30AC\\u30CA\" #@param {type:\"string\"}\n",
        "\n",
        "#@markdown  <br>\n",
        "\n",
        "\n",
        "volume_num_or = \"0\"#@param {type:\"string\"}\n",
        "#@markdown  特になければ「0」にしてください↑\n",
        "\n",
        "if volume_num_or != 0:\n",
        "    #半角＝＞全角に変換\n",
        "    volume_num_fillzero = str(volume_num_or).zfill(3)\n",
        "    volume_num_upper = mojimoji.han_to_zen(volume_num_fillzero)\n",
        "    volume_num_or_upper = mojimoji.han_to_zen(str(volume_num_or))\n",
        "    volume_num = \"（\"+ volume_num_or_upper + \"）\"\n",
        "    title = title + volume_num + title_sub\n",
        "    title_ruby = title_ruby + volume_num + title_ruby_sub\n",
        "else:\n",
        "    volume_num_fillzero = str(volume_num_or).zfill(3)\n",
        "    volume_num_upper = mojimoji.han_to_zen(str(volume_num_or))\n",
        "\n",
        "#@markdown  <br>\n",
        "\n",
        "\n",
        "\n",
        "name_author = \"\\u4F5C\\u8005\" #@param {type:\"string\"}\n",
        "\n",
        "name_author_ruby = \"\\u4F5C\\u8005\\u30D5\\u30EA\\u30AC\\u30CA\" #@param {type:\"string\"}\n",
        "#@markdown   ない場合は<b>None</b>と入力してください↑\n",
        "\n",
        "#@markdown  <br>\n",
        "\n",
        "\n",
        "#@markdown <strong>初版発行年</strong>\n",
        "first_edition_pub_year =  \"2021\"#@param {type:\"string\"}\n",
        "\n",
        "#@markdown  <br>\n",
        "\n",
        "\n",
        "\n",
        "publisher = \"\\u51FA\\u7248\\u793E\" #@param ['講談社','学研プラス','エンターブレイン', 'KADOKAWA', '実業之日本社', 'スクウェア・エニックス', '竹書房','リブレ出版','プランタン出版', '太田出版', '白泉社', '祥伝社', 'トゥーヴァージンズ', '東京漫画社', '徳間書店', '茜新社', 'ふゅーじょんぷろだくと', 'ジュリアン', 'ブライト出版', '角川書店', 'コアマガジン', '大洋図書', '一迅社', '新書館', '集英社', '小学館', '秋田書店', 'Shueisha', 'Shogakukan', '文響社', '文藝春秋', '幻冬舎', 'クラーケンコミックス', '学習研究社', '朝日新聞出版', 'マガジンハウス', '双葉社', 'アスコム', '三栄書房', '宝島社', '新潮社', 'イースト･プレス', 'Bbmf マガジン', 'リイド社', '日本文芸社', 'スタジオジブリ', '扶桑社', '少年画報社'] {allow-input: true}\n",
        "#@markdown 横のプルダウンになければ入力してね↑\n",
        "\n",
        "#@markdown   <br>\n",
        "\n",
        "\n",
        "#@markdown <strong>価格を<em>税抜き</em></strong>\n",
        "price = \"\\u4FA1\\u683C\"  #@param {type:\"string\"}\n",
        "#@markdown 価格がない場合は「0」と入力してください。↑\n",
        "\n",
        "#@markdown  <br>\n",
        "\n",
        "\n",
        "\n",
        "genre = \"\\u30B8\\u30E3\\u30F3\\u30EB\" #@param [\"\\u9752\\u5E74\", \"BL\", \"\\u767E\\u5408\", \"BL\\u30A2\\u30F3\\u30BD\\u30ED\", \"BL\\u4E8C\\u6B21\\u30A2\\u30F3\\u30BD\\u30ED\", \"\\u4E8C\\u6B21\\u30A2\\u30F3\\u30BD\\u30ED\", \"\\u5C11\\u5E74\", \"\\u5C11\\u5973\", \"\\u5C11\\u5E74\\u753B\\u96C6\", \"\\u5C11\\u5973\\u753B\\u96C6\", \"\\u30A8\\u30C3\\u30BB\\u30A4\", \"\\u30D5\\u30A3\\u30EB\\u30E0\\u30B3\\u30DF\\u30C3\\u30AF\", \"\\u5B66\\u7FD2\", \"\\u6559\\u80B2\"] {allow-input: true}\n",
        "#@markdown 　<strong></strong><br>横のプルダウンになければ入力してね　↑\n",
        "\n",
        "\n",
        "\n",
        "df_new_book = pd.DataFrame({\"タイトル\":title,\"タイトルフリガナ\":title_ruby,\"作者名\":name_author,\"作者名フリガナ\":name_author_ruby,\"初版発行年\":first_edition_pub_year,\"出版社\":publisher,\"価格（税抜）\":price,\"ジャンル\":genre,\"巻数\":volume_num_upper},index=['i',])\n",
        "#df_test = pd.DataFrame({\"タイトル\":\"title\",\"タイトルフリガナ\":\"title_ruby\",\"作者名\":\"name_author\",\"作者名フリガナ\":\"name_author_ruby\",\"初版発行年\":\"first_edition_publication_year\",\"出版社\":\"publisher\",\"価格（税抜）\":\"price\",\"ジャンル\":\"genre\"},index=['i',])\n",
        "#df_new_book.iloc[:,:-1]\n",
        "df_new_book\n",
        "\n",
        "#@markdown  <br> <br>\n",
        "#@markdown <b><font color =\"DeepPink\" >入れ終わったら左上の再生ボタンを押してね\n"
      ],
      "execution_count": null,
      "outputs": []
    },
    {
      "cell_type": "markdown",
      "metadata": {
        "id": "O19Vy3nlwI_K"
      },
      "source": [
        "<font size=3>表示された入力情報が正しければチェックを入れて下の再生ボタンを押してね</font><br>\n",
        "システム上巻数は３桁表示されます。"
      ]
    },
    {
      "cell_type": "code",
      "metadata": {
        "id": "m35iRwaRwQ1Y",
        "colab": {
          "base_uri": "https://localhost:8080/"
        },
        "outputId": "0eaeeeda-2a48-4480-dd4c-fd0cf985d786"
      },
      "source": [
        "#@title　新しい本の情報を登録するよ\n",
        "\n",
        "#@markdown 入力内容が正しければチェックを入れてね。\n",
        "check = False #@param {type:\"boolean\"}\n",
        "if check == True:\n",
        "    #pd.concat([df,df_test]).reset_index(drop = True)\n",
        "    df = pd.concat([df,df_new_book]).reset_index(drop = True)\n",
        "    df.tail(5)\n",
        "    print(df.tail(5))\n",
        "    print(\"----------------------------------------------------------------------\")\n",
        "    #print(\"追加できました。\")\n",
        "    df.to_csv(\"/content/drive/MyDrive/蔵書_reset_巻数 (1).csv\")\n",
        "    print(\"上書き保存できました。\")\n",
        "\n",
        "\n",
        "else:\n",
        "    print(\"チェックを入れてもう一度実行してね\")\n"
      ],
      "execution_count": 4,
      "outputs": [
        {
          "output_type": "stream",
          "name": "stdout",
          "text": [
            "チェックを入れてもう一度実行してね\n"
          ]
        }
      ]
    },
    {
      "cell_type": "markdown",
      "metadata": {
        "id": "t_PH-FLLYn9F"
      },
      "source": [
        "#登録を<b>削除する</b>ときはここを開いてね"
      ]
    },
    {
      "cell_type": "code",
      "metadata": {
        "id": "O34RvuzsZm3p",
        "cellView": "form",
        "colab": {
          "base_uri": "https://localhost:8080/",
          "height": 80
        },
        "outputId": "dd241bf5-5945-4d76-95b6-f9ff9c86bd80"
      },
      "source": [
        "#@title タイトルから削除する登録を決定\n",
        "\n",
        "#@markdown ----------------------------------------------\n",
        "#@markdown ↓削除したい本のタイトルを入力してね\n",
        "query_t_del = \"\" #@param {type:\"string\"}\n",
        "\n",
        "df_del = df[df['タイトル'].str.contains(query_t_del)].sort_values(by = \"タイトル\")\n",
        "df_del"
      ],
      "execution_count": null,
      "outputs": [
        {
          "output_type": "execute_result",
          "data": {
            "text/html": [
              "<div>\n",
              "<style scoped>\n",
              "    .dataframe tbody tr th:only-of-type {\n",
              "        vertical-align: middle;\n",
              "    }\n",
              "\n",
              "    .dataframe tbody tr th {\n",
              "        vertical-align: top;\n",
              "    }\n",
              "\n",
              "    .dataframe thead th {\n",
              "        text-align: right;\n",
              "    }\n",
              "</style>\n",
              "<table border=\"1\" class=\"dataframe\">\n",
              "  <thead>\n",
              "    <tr style=\"text-align: right;\">\n",
              "      <th></th>\n",
              "      <th>タイトル</th>\n",
              "      <th>タイトルフリガナ</th>\n",
              "      <th>作者名</th>\n",
              "      <th>作者名フリガナ</th>\n",
              "      <th>初版発行年</th>\n",
              "      <th>出版社</th>\n",
              "      <th>価格（税抜）</th>\n",
              "      <th>ジャンル</th>\n",
              "      <th>巻数</th>\n",
              "    </tr>\n",
              "  </thead>\n",
              "  <tbody>\n",
              "    <tr>\n",
              "      <th>1745</th>\n",
              "      <td>過呼吸（０）ゼーハー</td>\n",
              "      <td>カコキュウ（０）ゼーハー</td>\n",
              "      <td>石川真海</td>\n",
              "      <td>イシカワマミ</td>\n",
              "      <td>2021</td>\n",
              "      <td>角川書店</td>\n",
              "      <td>800</td>\n",
              "      <td>BL</td>\n",
              "      <td>０００</td>\n",
              "    </tr>\n",
              "  </tbody>\n",
              "</table>\n",
              "</div>"
            ],
            "text/plain": [
              "            タイトル      タイトルフリガナ   作者名 作者名フリガナ 初版発行年   出版社 価格（税抜） ジャンル   巻数\n",
              "1745  過呼吸（０）ゼーハー  カコキュウ（０）ゼーハー  石川真海  イシカワマミ  2021  角川書店    800   BL  ０００"
            ]
          },
          "metadata": {},
          "execution_count": 5
        }
      ]
    },
    {
      "cell_type": "markdown",
      "metadata": {
        "id": "joE03jqOdYKA"
      },
      "source": [
        "表示されたものでよろしければ下にチェックを入れて再生ボタンを押してください。\n",
        "\n",
        "削除が実行されます。\n",
        "\n",
        "\n",
        "<font color = \"red\">注意</font>\n",
        "\n",
        "> 表示されたリストすべてが削除されます。\n",
        "\n"
      ]
    },
    {
      "cell_type": "code",
      "metadata": {
        "id": "LQ7a2BP_dm98",
        "cellView": "form",
        "colab": {
          "base_uri": "https://localhost:8080/"
        },
        "outputId": "c57637c0-99fe-44b2-8eb3-e68b0eca88cf"
      },
      "source": [
        "#@title 削除を実行しちゃいます。　\n",
        "#@markdown 本当に消しちゃっていいの？\n",
        "\n",
        "\n",
        "#@markdown 良ければ下にチェックを入れて再生ボタンを押してください\n",
        "check_del = False #@param {type:\"boolean\"}\n",
        "\n",
        "if check_del == True:\n",
        "    del_list = list(df_del.index)\n",
        "    df = df.drop(del_list).reset_index(drop = True)\n",
        "    print(df.tail(5))\n",
        "    print(\"----------------------------------------------------------------------\")\n",
        "    print(\"削除しました。\")\n",
        "    df.to_csv(\"/content/drive/MyDrive/蔵書_reset_巻数 (1).csv\")\n",
        "    print(\"上書き保存できました。\")\n",
        "else:\n",
        "    print(\"チェックが入っていないよ。確認してもう一度やり直してください。\")"
      ],
      "execution_count": null,
      "outputs": [
        {
          "output_type": "stream",
          "name": "stdout",
          "text": [
            "                      タイトル                 タイトルフリガナ    作者名  ... 価格（税抜） ジャンル   巻数\n",
            "1740           問題サラリーマン（３）            モンダイサラリーマン（３）  中崎タツヤ  ...    456   青年  ００３\n",
            "1741           問題サラリーマン（４）            モンダイサラリーマン（４）  中崎タツヤ  ...    485   青年  ００４\n",
            "1742            あさりちゃん（９１）               アサリチャン（９１）  室山まゆみ  ...    390   少女  ０９１\n",
            "1743           わたしはしじみ！（１）              ワタシハシジミ！（１）  土田よしこ  ...    320   少女  ００１\n",
            "1744  ONE PIECE（１００）’’覇王色\"  ONE PIECE（１００）\"ハオウショク''  尾田栄一郎  ...    440   少年  １００\n",
            "\n",
            "[5 rows x 9 columns]\n",
            "----------------------------------------------------------------------\n",
            "削除しました。\n",
            "上書き保存できました。\n"
          ]
        }
      ]
    },
    {
      "cell_type": "markdown",
      "metadata": {
        "id": "DQyZmzcNmefS"
      },
      "source": [
        "#<b><font size=5, color = \"darkorange\">ここから書籍検索の場所になります</b>"
      ]
    },
    {
      "cell_type": "markdown",
      "metadata": {
        "id": "i_Htct0HxG7m"
      },
      "source": [
        "#書籍<b>検索をする</b>ときにはここを開いてね"
      ]
    },
    {
      "cell_type": "markdown",
      "metadata": {
        "id": "-MkhvJtbPNzT"
      },
      "source": [
        "<b><font size=2>書籍検索をするところです。</font></b>\n",
        "\n",
        "\n",
        "\n",
        "\n",
        "* 検索したいものを選んで必要用事項を入力して再生ボタン![image.png](data:image/png;base64,iVBORw0KGgoAAAANSUhEUgAAACQAAAAhCAYAAACxzQkrAAAA+0lEQVRYhe3WwY2EMAwF0KktdwrwPe7FvodecjddUAYF/D3NiEG7MZAwE634km+R8oTjhAc6y+PbgG1ukJcb5OX/gHLOUFUwM0IICCGAmaGqmKbpcyAzAxG9EH8VEcHMrgWllFzItsZxvAZ0BvOslFJbkJmdxjxrb/t2gUpnJsa4C0REbUA55+JGy7JARJp9JRfkbbaGD8NQXCsi9SCvJevM81xcz8z1IK8N23gt/ApIVa8DHW3Z+in5bSKrQd0d6j1jX2pR87EHyhdjqUXranYxAh0+HUBnj2sN6gjmMAjo7AdtCxORt3sqxggROQWpBl2VG+TlBnnpDvQDlMQGOQ/VOdAAAAAASUVORK5CYII=)を押してね\n",
        "\n",
        "* 部分一致で検索が可能です\n",
        "\n",
        "* <u>検索結果が60件以上あると全部表示できないです。</u>組み合わせ検索を使うといいカモ🦆\n"
      ]
    },
    {
      "cell_type": "code",
      "metadata": {
        "id": "iN5TeHXRPPme",
        "cellView": "form",
        "colab": {
          "base_uri": "https://localhost:8080/",
          "height": 116
        },
        "outputId": "7641a926-3543-4fbe-99f4-cb872f577b24"
      },
      "source": [
        "#@title <b>タイトル</b>で検索　　フリガナでも検索できるよ\n",
        "\n",
        "#@markdown ----------------------------------------------\n",
        "#@markdown ↓検索したいタイトルを入力してね\n",
        "query_t = \"\\u708E\\u708E\" #@param {type:\"string\"}\n",
        "\n",
        "df_title_sel = df[df['タイトル'].str.contains(query_t) | df['タイトルフリガナ'].str.contains(query_t)].sort_values([\"巻数\", \"タイトル\"])\n",
        "df_title_sel.iloc[:,:-1]\n"
      ],
      "execution_count": null,
      "outputs": [
        {
          "output_type": "execute_result",
          "data": {
            "text/html": [
              "<div>\n",
              "<style scoped>\n",
              "    .dataframe tbody tr th:only-of-type {\n",
              "        vertical-align: middle;\n",
              "    }\n",
              "\n",
              "    .dataframe tbody tr th {\n",
              "        vertical-align: top;\n",
              "    }\n",
              "\n",
              "    .dataframe thead th {\n",
              "        text-align: right;\n",
              "    }\n",
              "</style>\n",
              "<table border=\"1\" class=\"dataframe\">\n",
              "  <thead>\n",
              "    <tr style=\"text-align: right;\">\n",
              "      <th></th>\n",
              "      <th>タイトル</th>\n",
              "      <th>タイトルフリガナ</th>\n",
              "      <th>作者名</th>\n",
              "      <th>作者名フリガナ</th>\n",
              "      <th>初版発行年</th>\n",
              "      <th>出版社</th>\n",
              "      <th>価格（税抜）</th>\n",
              "      <th>ジャンル</th>\n",
              "    </tr>\n",
              "  </thead>\n",
              "  <tbody>\n",
              "  </tbody>\n",
              "</table>\n",
              "</div>"
            ],
            "text/plain": [
              "Empty DataFrame\n",
              "Columns: [タイトル, タイトルフリガナ, 作者名, 作者名フリガナ, 初版発行年, 出版社, 価格（税抜）, ジャンル]\n",
              "Index: []"
            ]
          },
          "metadata": {},
          "execution_count": 13
        }
      ]
    },
    {
      "cell_type": "code",
      "metadata": {
        "id": "ViCEcdLdRXXb",
        "cellView": "form"
      },
      "source": [
        "#@title <b>作者名</b>で検索　フリガナでも検索できるよ\n",
        "\n",
        "#@markdown ----------------------------------------------\n",
        "#@markdown ↓検索したい作者名を入力してね\n",
        "query_a = \"\\u77F3\\u5DDD\\u771F\\u6D77\" #@param {type:\"string\"}\n",
        "\n",
        "df_auth_name_sel = df[df['作者名'].str.contains(query_a, na = False) | df['作者名フリガナ'].str.contains(query_a, na = False)].sort_values(\"巻数\")\n",
        "df_auth_name_sel.iloc[:,:-1]"
      ],
      "execution_count": null,
      "outputs": []
    },
    {
      "cell_type": "code",
      "metadata": {
        "id": "tSjV8DygYCb-",
        "cellView": "form"
      },
      "source": [
        "#@title <b>出版社</b>で検索<br>ここうまく表示できません。調整方法を考え中です。\n",
        "\n",
        "#@markdown ----------------------------------------------\n",
        "#@markdown ↓検索したい出版社を入力してね\n",
        "query_pub = \"\" #@param ['講談社','学研プラス','エンターブレイン', 'KADOKAWA', '実業之日本社', 'スクウェア・エニックス', '竹書房','リブレ出版','プランタン出版', '太田出版', '白泉社', '祥伝社', 'トゥーヴァージンズ', '東京漫画社', '徳間書店', '茜新社', 'ふゅーじょんぷろだくと', 'ジュリアン', 'ブライト出版', '角川書店', 'コアマガジン', '大洋図書', '一迅社', '新書館', '集英社', '小学館', '秋田書店', 'Shueisha', 'Shogakukan', '文響社', '文藝春秋', '幻冬舎', 'クラーケンコミックス', '学習研究社', '朝日新聞出版', 'マガジンハウス', '双葉社', 'アスコム', '三栄書房', '宝島社', '新潮社', 'イースト･プレス', 'Bbmf マガジン', 'リイド社', '日本文芸社', 'スタジオジブリ', '扶桑社', '少年画報社'] {allow-input: true}\n",
        "\n",
        "df_pub_sel = df[df['出版社'].str.contains(query_pub , na = False)].sort_values(\"作者名\")\n",
        "df_pub_sel.iloc[:,:-1]"
      ],
      "execution_count": null,
      "outputs": []
    },
    {
      "cell_type": "code",
      "metadata": {
        "id": "DQVvjERJ4K7C",
        "cellView": "form"
      },
      "source": [
        "#@title <b>ジャンル</b>検索<br>ここうまく表示できません。調整方法を考え中です。\n",
        "\n",
        "\n",
        "#@markdown ----------------------------------------------\n",
        "#@markdown ↓検索したいジャンルを選んでね（入力してね）\n",
        "\n",
        "#@markdown 複数選択できるぞ\n",
        "query_g1 = \"\" #@param [\"\\u9752\\u5E74\", \"BL\", \"\\u767E\\u5408\", \"BL\\u30A2\\u30F3\\u30BD\\u30ED\", \"BL\\u4E8C\\u6B21\\u30A2\\u30F3\\u30BD\\u30ED\", \"\\u4E8C\\u6B21\\u30A2\\u30F3\\u30BD\\u30ED\", \"\\u5C11\\u5E74\", \"\\u5C11\\u5973\", \"\\u5C11\\u5E74\\u753B\\u96C6\", \"\\u5C11\\u5973\\u753B\\u96C6\", \"\\u30A8\\u30C3\\u30BB\\u30A4\", \"\\u30D5\\u30A3\\u30EB\\u30E0\\u30B3\\u30DF\\u30C3\\u30AF\", \"\\u5B66\\u7FD2\", \"\\u6559\\u80B2\"] {allow-input: true}\n",
        "query_g2 = \"\" #@param [\"\\u9752\\u5E74\", \"BL\", \"\\u767E\\u5408\", \"BL\\u30A2\\u30F3\\u30BD\\u30ED\", \"BL\\u4E8C\\u6B21\\u30A2\\u30F3\\u30BD\\u30ED\", \"\\u4E8C\\u6B21\\u30A2\\u30F3\\u30BD\\u30ED\", \"\\u5C11\\u5E74\", \"\\u5C11\\u5973\", \"\\u5C11\\u5E74\\u753B\\u96C6\", \"\\u5C11\\u5973\\u753B\\u96C6\", \"\\u30A8\\u30C3\\u30BB\\u30A4\", \"\\u30D5\\u30A3\\u30EB\\u30E0\\u30B3\\u30DF\\u30C3\\u30AF\", \"\\u5B66\\u7FD2\", \"\\u6559\\u80B2\"] {allow-input: true}\n",
        "query_g3 = \"\" #@param [\"\\u9752\\u5E74\", \"BL\", \"\\u767E\\u5408\", \"BL\\u30A2\\u30F3\\u30BD\\u30ED\", \"BL\\u4E8C\\u6B21\\u30A2\\u30F3\\u30BD\\u30ED\", \"\\u4E8C\\u6B21\\u30A2\\u30F3\\u30BD\\u30ED\", \"\\u5C11\\u5E74\", \"\\u5C11\\u5973\", \"\\u5C11\\u5E74\\u753B\\u96C6\", \"\\u5C11\\u5973\\u753B\\u96C6\", \"\\u30A8\\u30C3\\u30BB\\u30A4\", \"\\u30D5\\u30A3\\u30EB\\u30E0\\u30B3\\u30DF\\u30C3\\u30AF\", \"\\u5B66\\u7FD2\", \"\\u6559\\u80B2\"] {allow-input: true}\n",
        "\n",
        "df_gen_sel = df[(df[\"ジャンル\"] == query_g1) | (df[\"ジャンル\"] ==query_g2)| (df[\"ジャンル\"] ==query_g3)].sort_values(\"巻数\")\n",
        "df_gen_sel.iloc[:,:-1]"
      ],
      "execution_count": null,
      "outputs": []
    },
    {
      "cell_type": "code",
      "metadata": {
        "id": "UGOAfDKGhz3D",
        "cellView": "form"
      },
      "source": [
        "#@title <b>組み合わせ検索</b><br>出版社とジャンルが一致したものを表示します。<br>ここうまく表示できません。調整方法を考え中です。\n",
        "\n",
        "#@markdown ----------------------------------------------\n",
        "#@markdown ↓検索したい出版社を入力してね\n",
        "query_pub_c = \"\" #@param ['講談社','学研プラス','エンターブレイン', 'KADOKAWA', '実業之日本社', 'スクウェア・エニックス', '竹書房','リブレ出版','プランタン出版', '太田出版', '白泉社', '祥伝社', 'トゥーヴァージンズ', '東京漫画社', '徳間書店', '茜新社', 'ふゅーじょんぷろだくと', 'ジュリアン', 'ブライト出版', '角川書店', 'コアマガジン', '大洋図書', '一迅社', '新書館', '集英社', '小学館', '秋田書店', 'Shueisha', 'Shogakukan', '文響社', '文藝春秋', '幻冬舎', 'クラーケンコミックス', '学習研究社', '朝日新聞出版', 'マガジンハウス', '双葉社', 'アスコム', '三栄書房', '宝島社', '新潮社', 'イースト･プレス', 'Bbmf マガジン', 'リイド社', '日本文芸社', 'スタジオジブリ', '扶桑社', '少年画報社'] {allow-input: true}\n",
        "\n",
        "\n",
        "#@markdown ----------------------------------------------\n",
        "#@markdown ↓検索したいジャンルを選んでね（入力してね）\n",
        "\n",
        "##@markdown 複数選択できるぞ\n",
        "query_g1_c = \"\" #@param [\"\\u9752\\u5E74\", \"BL\", \"\\u767E\\u5408\", \"BL\\u30A2\\u30F3\\u30BD\\u30ED\", \"BL\\u4E8C\\u6B21\\u30A2\\u30F3\\u30BD\\u30ED\", \"\\u4E8C\\u6B21\\u30A2\\u30F3\\u30BD\\u30ED\", \"\\u5C11\\u5E74\", \"\\u5C11\\u5973\", \"\\u5C11\\u5E74\\u753B\\u96C6\", \"\\u5C11\\u5973\\u753B\\u96C6\", \"\\u30A8\\u30C3\\u30BB\\u30A4\", \"\\u30D5\\u30A3\\u30EB\\u30E0\\u30B3\\u30DF\\u30C3\\u30AF\", \"\\u5B66\\u7FD2\", \"\\u6559\\u80B2\"] {allow-input: true}\n",
        "#query_g2_c = \"\\u5C11\\u5E74\\u753B\\u96C6\" #@param [\"\\u9752\\u5E74\", \"BL\", \"\\u767E\\u5408\", \"BL\\u30A2\\u30F3\\u30BD\\u30ED\", \"BL\\u4E8C\\u6B21\\u30A2\\u30F3\\u30BD\\u30ED\", \"\\u4E8C\\u6B21\\u30A2\\u30F3\\u30BD\\u30ED\", \"\\u5C11\\u5E74\", \"\\u5C11\\u5973\", \"\\u5C11\\u5E74\\u753B\\u96C6\", \"\\u5C11\\u5973\\u753B\\u96C6\", \"\\u30A8\\u30C3\\u30BB\\u30A4\", \"\\u30D5\\u30A3\\u30EB\\u30E0\\u30B3\\u30DF\\u30C3\\u30AF\", \"\\u5B66\\u7FD2\", \"\\u6559\\u80B2\"] {allow-input: true}\n",
        "#query_g3_c = \"\" #@param [\"\\u9752\\u5E74\", \"BL\", \"\\u767E\\u5408\", \"BL\\u30A2\\u30F3\\u30BD\\u30ED\", \"BL\\u4E8C\\u6B21\\u30A2\\u30F3\\u30BD\\u30ED\", \"\\u4E8C\\u6B21\\u30A2\\u30F3\\u30BD\\u30ED\", \"\\u5C11\\u5E74\", \"\\u5C11\\u5973\", \"\\u5C11\\u5E74\\u753B\\u96C6\", \"\\u5C11\\u5973\\u753B\\u96C6\", \"\\u30A8\\u30C3\\u30BB\\u30A4\", \"\\u30D5\\u30A3\\u30EB\\u30E0\\u30B3\\u30DF\\u30C3\\u30AF\", \"\\u5B66\\u7FD2\", \"\\u6559\\u80B2\"] {allow-input: true}\n",
        "\n",
        "df[(df[\"出版社\"]== query_pub_c) & (df[\"ジャンル\"] == query_g1_c)].head(60)"
      ],
      "execution_count": null,
      "outputs": []
    },
    {
      "cell_type": "markdown",
      "metadata": {
        "id": "_12ywrFfqZrr"
      },
      "source": [
        "#<b><font size=5, color = \"darkorange\">ここからジャンル及び出版社の一覧を取得できます。</b>"
      ]
    },
    {
      "cell_type": "code",
      "metadata": {
        "id": "HbNAJPQu4BDK",
        "cellView": "form",
        "colab": {
          "base_uri": "https://localhost:8080/"
        },
        "outputId": "e9680b5b-d69b-419a-85f5-dc4fca4da4c2"
      },
      "source": [
        "#@title ジャンル及び出版社の一覧とその数を得られます。<br><sub>ちょっと表示形式が汚いけど許して</sub>\n",
        "\n",
        "\n",
        "print(\"ジャンル一覧\")\n",
        "print()\n",
        "print(df[\"ジャンル\"].value_counts(sort=True))\n",
        "#print(df.loc[:,\"ジャンル\"][~df.loc[:,\"ジャンル\"].duplicated()])\n",
        "print()\n",
        "print(\"==========================================================\")\n",
        "print()\n",
        "print(\"出版社一覧\")\n",
        "print()\n",
        "print(df[\"出版社\"].value_counts(sort=True))"
      ],
      "execution_count": null,
      "outputs": [
        {
          "output_type": "stream",
          "name": "stdout",
          "text": [
            "ジャンル一覧\n",
            "\n",
            "少年          1180\n",
            "青年           301\n",
            "少女           157\n",
            "学習            34\n",
            "BL            30\n",
            "エッセイ          17\n",
            "フィルムコミック       7\n",
            "BL二次アンソロ       6\n",
            "百合             4\n",
            "少年画集           3\n",
            "BLアンソロ         2\n",
            "少女画集           1\n",
            "二次アンソロ         1\n",
            "教育             1\n",
            "BL二次           1\n",
            "Name: ジャンル, dtype: int64\n",
            "\n",
            "==========================================================\n",
            "\n",
            "出版社一覧\n",
            "\n",
            "集英社            673\n",
            "小学館            400\n",
            "講談社            249\n",
            "秋田書店           107\n",
            "白泉社             59\n",
            "スクウェア・エニックス     52\n",
            "竹書房             21\n",
            "クラーケンコミックス      17\n",
            "角川書店            16\n",
            "リイド社            15\n",
            "Shueisha        13\n",
            "KADOKAWA        11\n",
            "祥伝社             11\n",
            "幻冬舎             11\n",
            "日本文芸社            9\n",
            "新書館              8\n",
            "朝日新聞出版           8\n",
            "文藝春秋             7\n",
            "双葉社              5\n",
            "マガジンハウス          4\n",
            "リブレ出版            4\n",
            "ジュリアン            4\n",
            "エンターブレイン         3\n",
            "東京漫画社            3\n",
            "徳間書店             3\n",
            "ふゅーじょんぷろだくと      3\n",
            "茜新社              2\n",
            "文響社              2\n",
            "学習研究社            2\n",
            "太田出版             2\n",
            "少年画報社            2\n",
            "トゥーヴァージンズ        2\n",
            "扶桑社              2\n",
            "アスコム             1\n",
            "一迅社              1\n",
            "Shogakukan       1\n",
            "宝島社              1\n",
            "新潮社              1\n",
            "学研プラス            1\n",
            "ブライト出版           1\n",
            "スタジオジブリ          1\n",
            "実業之日本社           1\n",
            "イースト･プレス         1\n",
            "大洋図書             1\n",
            "三栄書房             1\n",
            "コアマガジン           1\n",
            "プランタン出版          1\n",
            "Bbmf マガジン        1\n",
            "Name: 出版社, dtype: int64\n"
          ]
        }
      ]
    },
    {
      "cell_type": "code",
      "metadata": {
        "id": "8JJgr-t2XGeQ"
      },
      "source": [
        ""
      ],
      "execution_count": null,
      "outputs": []
    },
    {
      "cell_type": "markdown",
      "metadata": {
        "id": "fcvl3zXvXHIL"
      },
      "source": [
        ""
      ]
    }
  ]
}